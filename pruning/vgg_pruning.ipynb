{
 "cells": [
  {
   "cell_type": "code",
   "execution_count": null,
   "metadata": {},
   "outputs": [
    {
     "name": "stderr",
     "output_type": "stream",
     "text": [
      "/home/hp/anaconda3/envs/generic/lib/python3.10/site-packages/tqdm/auto.py:21: TqdmWarning: IProgress not found. Please update jupyter and ipywidgets. See https://ipywidgets.readthedocs.io/en/stable/user_install.html\n",
      "  from .autonotebook import tqdm as notebook_tqdm\n"
     ]
    }
   ],
   "source": [
    "## all the imports\n",
    "\n",
    "import copy\n",
    "import math\n",
    "import random\n",
    "import time\n",
    "from collections import OrderedDict, defaultdict\n",
    "from typing import Union, List\n",
    "\n",
    "import numpy as np\n",
    "import torch\n",
    "from matplotlib import pyplot as plt\n",
    "from torch import nn\n",
    "from torch.optim import *\n",
    "from torch.optim.lr_scheduler import *\n",
    "from torch.utils.data import DataLoader\n",
    "from torchprofile import profile_macs\n",
    "from torchvision.datasets import *\n",
    "from torchvision.transforms import *\n",
    "from tqdm.auto import tqdm\n",
    "\n",
    "\n",
    "from torchprofile import profile_macs\n",
    "\n",
    "assert torch.cuda.is_available(), \\\n",
    "\"The current runtime does not have CUDA support.\" \\\n",
    "\"Please go to menu bar (Runtime - Change runtime type) and select GPU\"\n",
    "     "
   ]
  },
  {
   "cell_type": "code",
   "execution_count": null,
   "metadata": {},
   "outputs": [
    {
     "data": {
      "text/plain": [
       "<torch._C.Generator at 0x74754e19d830>"
      ]
     },
     "execution_count": 3,
     "metadata": {},
     "output_type": "execute_result"
    }
   ],
   "source": [
    "# fix the seed so that the output matches\n",
    "random.seed(0)\n",
    "np.random.seed(0)\n",
    "torch.manual_seed(0)"
   ]
  },
  {
   "cell_type": "code",
   "execution_count": null,
   "metadata": {},
   "outputs": [],
   "source": [
    "# sample code snip to train a classification model\n",
    "\n",
    "def train(\n",
    "  model: nn.Module,\n",
    "  dataloader: DataLoader,\n",
    "  criterion: nn.Module,\n",
    "  optimizer: Optimizer,\n",
    "  scheduler: LambdaLR,\n",
    "  callbacks = None\n",
    ") -> None:\n",
    "  model.train()\n",
    "\n",
    "  for inputs, targets in tqdm(dataloader, desc='train', leave=False):\n",
    "    # Move the data from CPU to GPU\n",
    "    inputs = inputs.cuda()\n",
    "    targets = targets.cuda()\n",
    "\n",
    "    # Reset the gradients (from the last iteration)\n",
    "    optimizer.zero_grad()\n",
    "\n",
    "    # Forward inference\n",
    "    outputs = model(inputs)\n",
    "    loss = criterion(outputs, targets)\n",
    "\n",
    "    # Backward propagation\n",
    "    loss.backward()\n",
    "\n",
    "    # Update optimizer and LR scheduler\n",
    "    optimizer.step()\n",
    "    scheduler.step()\n",
    "\n",
    "    if callbacks is not None:\n",
    "        for callback in callbacks:\n",
    "            callback()"
   ]
  },
  {
   "cell_type": "code",
   "execution_count": null,
   "metadata": {},
   "outputs": [],
   "source": [
    "# codes to check the performance of the model\n",
    "\n",
    "def get_model_macs(model, inputs) -> int:\n",
    "    return profile_macs(model, inputs)\n",
    "\n",
    "\n",
    "def get_sparsity(tensor: torch.Tensor) -> float:\n",
    "    \"\"\"\n",
    "    calculate the sparsity of the given tensor\n",
    "        sparsity = #zeros / #elements = 1 - #nonzeros / #elements\n",
    "    \"\"\"\n",
    "    return 1 - float(tensor.count_nonzero()) / tensor.numel()\n",
    "\n",
    "\n",
    "def get_model_sparsity(model: nn.Module) -> float:\n",
    "    \"\"\"\n",
    "    calculate the sparsity of the given model\n",
    "        sparsity = #zeros / #elements = 1 - #nonzeros / #elements\n",
    "    \"\"\"\n",
    "    num_nonzeros, num_elements = 0, 0\n",
    "    for param in model.parameters():\n",
    "        num_nonzeros += param.count_nonzero()\n",
    "        num_elements += param.numel()\n",
    "    return 1 - float(num_nonzeros) / num_elements\n",
    "\n",
    "def get_num_parameters(model: nn.Module, count_nonzero_only=False) -> int:\n",
    "    \"\"\"\n",
    "    calculate the total number of parameters of model\n",
    "    :param count_nonzero_only: only count nonzero weights\n",
    "    \"\"\"\n",
    "    num_counted_elements = 0\n",
    "    for param in model.parameters():\n",
    "        if count_nonzero_only:\n",
    "            num_counted_elements += param.count_nonzero()\n",
    "        else:\n",
    "            num_counted_elements += param.numel()\n",
    "    return num_counted_elements\n",
    "\n",
    "\n",
    "def get_model_size(model: nn.Module, data_width=32, count_nonzero_only=False) -> int:\n",
    "    \"\"\"\n",
    "    calculate the model size in bits\n",
    "    :param data_width: #bits per element\n",
    "    :param count_nonzero_only: only count nonzero weights\n",
    "    \"\"\"\n",
    "    return get_num_parameters(model, count_nonzero_only) * data_width\n",
    "\n",
    "Byte = 8\n",
    "KiB = 1024 * Byte\n",
    "MiB = 1024 * KiB\n",
    "GiB = 1024 * MiB"
   ]
  },
  {
   "cell_type": "code",
   "execution_count": null,
   "metadata": {},
   "outputs": [],
   "source": [
    "## data loading operations\n",
    "\n",
    "import os\n",
    "from torchvision import datasets, transforms\n",
    "from torch.utils.data import DataLoader\n",
    "from torchvision.datasets import ImageFolder\n",
    "\n",
    "# Define image size and transformations\n",
    "image_size = 224  # ResNet-18 standard input size is 224x224\n",
    "transforms = {\n",
    "    \"train\": transforms.Compose([\n",
    "        transforms.RandomResizedCrop(image_size),  # Random resize and crop to 224x224\n",
    "        transforms.RandomHorizontalFlip(),\n",
    "        transforms.ToTensor(),\n",
    "        transforms.Normalize(mean=[0.485, 0.456, 0.406], std=[0.229, 0.224, 0.225]),  # Normalization for pre-trained models\n",
    "    ]),\n",
    "    \"test\": transforms.Compose([\n",
    "        transforms.Resize(256),  # Resize the image to 256 to maintain aspect ratio\n",
    "        transforms.CenterCrop(image_size),  # Crop to 224x224 from the center\n",
    "        transforms.ToTensor(),\n",
    "        transforms.Normalize(mean=[0.485, 0.456, 0.406], std=[0.229, 0.224, 0.225]),  # Normalization for pre-trained models\n",
    "    ]),\n",
    "}\n",
    "\n",
    "# Define dataset paths\n",
    "train_dir = \"/media/hp/New Volume/teja_works/tinyml/dataset/seg_train/seg_train\"  # Update path to the train directory\n",
    "test_dir = \"/media/hp/New Volume/teja_works/tinyml/dataset/seg_test/seg_test\"    # Update path to the test directory\n",
    "\n",
    "# Create dataset and dataloader for each split (train and test)\n",
    "dataset = {}\n",
    "for split in [\"train\", \"test\"]:\n",
    "    if split == \"train\":\n",
    "        dataset[split] = ImageFolder(\n",
    "            root=train_dir,\n",
    "            transform=transforms[\"train\"],\n",
    "        )\n",
    "    else:\n",
    "        dataset[split] = ImageFolder(\n",
    "            root=test_dir,\n",
    "            transform=transforms[\"test\"],\n",
    "        )\n",
    "\n",
    "# Create dataloader for each split (train and test)\n",
    "dataloader = {}\n",
    "for split in ['train', 'test']:\n",
    "    dataloader[split] = DataLoader(\n",
    "        dataset[split],\n",
    "        batch_size=32,\n",
    "        shuffle=(split == 'train'),\n",
    "        num_workers=0,\n",
    "        pin_memory=True,\n",
    "    )\n"
   ]
  },
  {
   "cell_type": "code",
   "execution_count": 7,
   "metadata": {},
   "outputs": [
    {
     "name": "stdout",
     "output_type": "stream",
     "text": [
      "Requirement already satisfied: timm in /home/hp/anaconda3/envs/generic/lib/python3.10/site-packages (1.0.14)\n",
      "Requirement already satisfied: torch in /home/hp/anaconda3/envs/generic/lib/python3.10/site-packages (from timm) (2.2.2)\n",
      "Requirement already satisfied: torchvision in /home/hp/anaconda3/envs/generic/lib/python3.10/site-packages (from timm) (0.17.2)\n",
      "Requirement already satisfied: pyyaml in /home/hp/anaconda3/envs/generic/lib/python3.10/site-packages (from timm) (6.0.2)\n",
      "Requirement already satisfied: huggingface_hub in /home/hp/anaconda3/envs/generic/lib/python3.10/site-packages (from timm) (0.28.1)\n",
      "Requirement already satisfied: safetensors in /home/hp/anaconda3/envs/generic/lib/python3.10/site-packages (from timm) (0.5.2)\n",
      "Requirement already satisfied: filelock in /home/hp/anaconda3/envs/generic/lib/python3.10/site-packages (from huggingface_hub->timm) (3.17.0)\n",
      "Requirement already satisfied: fsspec>=2023.5.0 in /home/hp/anaconda3/envs/generic/lib/python3.10/site-packages (from huggingface_hub->timm) (2025.2.0)\n",
      "Requirement already satisfied: packaging>=20.9 in /home/hp/anaconda3/envs/generic/lib/python3.10/site-packages (from huggingface_hub->timm) (24.2)\n",
      "Requirement already satisfied: requests in /home/hp/anaconda3/envs/generic/lib/python3.10/site-packages (from huggingface_hub->timm) (2.32.3)\n",
      "Requirement already satisfied: tqdm>=4.42.1 in /home/hp/anaconda3/envs/generic/lib/python3.10/site-packages (from huggingface_hub->timm) (4.67.1)\n",
      "Requirement already satisfied: typing-extensions>=3.7.4.3 in /home/hp/anaconda3/envs/generic/lib/python3.10/site-packages (from huggingface_hub->timm) (4.12.2)\n",
      "Requirement already satisfied: sympy in /home/hp/anaconda3/envs/generic/lib/python3.10/site-packages (from torch->timm) (1.13.3)\n",
      "Requirement already satisfied: networkx in /home/hp/anaconda3/envs/generic/lib/python3.10/site-packages (from torch->timm) (3.4.2)\n",
      "Requirement already satisfied: jinja2 in /home/hp/anaconda3/envs/generic/lib/python3.10/site-packages (from torch->timm) (3.1.5)\n",
      "Requirement already satisfied: nvidia-cuda-nvrtc-cu12==12.1.105 in /home/hp/anaconda3/envs/generic/lib/python3.10/site-packages (from torch->timm) (12.1.105)\n",
      "Requirement already satisfied: nvidia-cuda-runtime-cu12==12.1.105 in /home/hp/anaconda3/envs/generic/lib/python3.10/site-packages (from torch->timm) (12.1.105)\n",
      "Requirement already satisfied: nvidia-cuda-cupti-cu12==12.1.105 in /home/hp/anaconda3/envs/generic/lib/python3.10/site-packages (from torch->timm) (12.1.105)\n",
      "Requirement already satisfied: nvidia-cudnn-cu12==8.9.2.26 in /home/hp/anaconda3/envs/generic/lib/python3.10/site-packages (from torch->timm) (8.9.2.26)\n",
      "Requirement already satisfied: nvidia-cublas-cu12==12.1.3.1 in /home/hp/anaconda3/envs/generic/lib/python3.10/site-packages (from torch->timm) (12.1.3.1)\n",
      "Requirement already satisfied: nvidia-cufft-cu12==11.0.2.54 in /home/hp/anaconda3/envs/generic/lib/python3.10/site-packages (from torch->timm) (11.0.2.54)\n",
      "Requirement already satisfied: nvidia-curand-cu12==10.3.2.106 in /home/hp/anaconda3/envs/generic/lib/python3.10/site-packages (from torch->timm) (10.3.2.106)\n",
      "Requirement already satisfied: nvidia-cusolver-cu12==11.4.5.107 in /home/hp/anaconda3/envs/generic/lib/python3.10/site-packages (from torch->timm) (11.4.5.107)\n",
      "Requirement already satisfied: nvidia-cusparse-cu12==12.1.0.106 in /home/hp/anaconda3/envs/generic/lib/python3.10/site-packages (from torch->timm) (12.1.0.106)\n",
      "Requirement already satisfied: nvidia-nccl-cu12==2.19.3 in /home/hp/anaconda3/envs/generic/lib/python3.10/site-packages (from torch->timm) (2.19.3)\n",
      "Requirement already satisfied: nvidia-nvtx-cu12==12.1.105 in /home/hp/anaconda3/envs/generic/lib/python3.10/site-packages (from torch->timm) (12.1.105)\n",
      "Requirement already satisfied: triton==2.2.0 in /home/hp/anaconda3/envs/generic/lib/python3.10/site-packages (from torch->timm) (2.2.0)\n",
      "Requirement already satisfied: nvidia-nvjitlink-cu12 in /home/hp/anaconda3/envs/generic/lib/python3.10/site-packages (from nvidia-cusolver-cu12==11.4.5.107->torch->timm) (12.8.61)\n",
      "Requirement already satisfied: numpy in /home/hp/anaconda3/envs/generic/lib/python3.10/site-packages (from torchvision->timm) (1.26.0)\n",
      "Requirement already satisfied: pillow!=8.3.*,>=5.3.0 in /home/hp/anaconda3/envs/generic/lib/python3.10/site-packages (from torchvision->timm) (11.1.0)\n",
      "Requirement already satisfied: MarkupSafe>=2.0 in /home/hp/anaconda3/envs/generic/lib/python3.10/site-packages (from jinja2->torch->timm) (3.0.2)\n",
      "Requirement already satisfied: charset-normalizer<4,>=2 in /home/hp/anaconda3/envs/generic/lib/python3.10/site-packages (from requests->huggingface_hub->timm) (3.4.1)\n",
      "Requirement already satisfied: idna<4,>=2.5 in /home/hp/anaconda3/envs/generic/lib/python3.10/site-packages (from requests->huggingface_hub->timm) (3.10)\n",
      "Requirement already satisfied: urllib3<3,>=1.21.1 in /home/hp/anaconda3/envs/generic/lib/python3.10/site-packages (from requests->huggingface_hub->timm) (2.3.0)\n",
      "Requirement already satisfied: certifi>=2017.4.17 in /home/hp/anaconda3/envs/generic/lib/python3.10/site-packages (from requests->huggingface_hub->timm) (2025.1.31)\n",
      "Requirement already satisfied: mpmath<1.4,>=1.1.0 in /home/hp/anaconda3/envs/generic/lib/python3.10/site-packages (from sympy->torch->timm) (1.3.0)\n"
     ]
    }
   ],
   "source": [
    "!pip install timm"
   ]
  },
  {
   "cell_type": "code",
   "execution_count": null,
   "metadata": {},
   "outputs": [],
   "source": [
    "# model init\n",
    "\n",
    "\n",
    "class VGG(nn.Module):\n",
    "  ARCH = [64, 128, 'M', 256, 256, 'M', 512, 512, 'M', 512, 512, 'M']\n",
    "\n",
    "  def __init__(self, classes = 6) -> None:\n",
    "    super().__init__()\n",
    "\n",
    "    layers = []\n",
    "    counts = defaultdict(int)\n",
    "\n",
    "    def add(name: str, layer: nn.Module) -> None:\n",
    "      layers.append((f\"{name}{counts[name]}\", layer))\n",
    "      counts[name] += 1\n",
    "\n",
    "    in_channels = 3\n",
    "    for x in self.ARCH:\n",
    "      if x != 'M':\n",
    "        # conv-bn-relu\n",
    "        add(\"conv\", nn.Conv2d(in_channels, x, 3, padding=1, bias=False))\n",
    "        add(\"bn\", nn.BatchNorm2d(x))\n",
    "        add(\"relu\", nn.ReLU(True))\n",
    "        in_channels = x\n",
    "      else:\n",
    "        # maxpool\n",
    "        add(\"pool\", nn.MaxPool2d(2))\n",
    "\n",
    "    self.backbone = nn.Sequential(OrderedDict(layers))\n",
    "    self.classifier = nn.Linear(512, classes)\n",
    "\n",
    "  def forward(self, x: torch.Tensor) -> torch.Tensor:\n",
    "    # backbone: [N, 3, 32, 32] => [N, 512, 2, 2]\n",
    "    x = self.backbone(x)\n",
    "\n",
    "    # avgpool: [N, 512, 2, 2] => [N, 512]\n",
    "    x = x.mean([2, 3])\n",
    "\n",
    "    # classifier: [N, 512] => [N, 10]\n",
    "    x = self.classifier(x)\n",
    "    return x\n",
    "\n",
    "\n",
    "\n",
    "model = VGG(classes=6).cuda()     "
   ]
  },
  {
   "cell_type": "code",
   "execution_count": 9,
   "metadata": {},
   "outputs": [
    {
     "data": {
      "text/plain": [
       "VGG(\n",
       "  (backbone): Sequential(\n",
       "    (conv0): Conv2d(3, 64, kernel_size=(3, 3), stride=(1, 1), padding=(1, 1), bias=False)\n",
       "    (bn0): BatchNorm2d(64, eps=1e-05, momentum=0.1, affine=True, track_running_stats=True)\n",
       "    (relu0): ReLU(inplace=True)\n",
       "    (conv1): Conv2d(64, 128, kernel_size=(3, 3), stride=(1, 1), padding=(1, 1), bias=False)\n",
       "    (bn1): BatchNorm2d(128, eps=1e-05, momentum=0.1, affine=True, track_running_stats=True)\n",
       "    (relu1): ReLU(inplace=True)\n",
       "    (pool0): MaxPool2d(kernel_size=2, stride=2, padding=0, dilation=1, ceil_mode=False)\n",
       "    (conv2): Conv2d(128, 256, kernel_size=(3, 3), stride=(1, 1), padding=(1, 1), bias=False)\n",
       "    (bn2): BatchNorm2d(256, eps=1e-05, momentum=0.1, affine=True, track_running_stats=True)\n",
       "    (relu2): ReLU(inplace=True)\n",
       "    (conv3): Conv2d(256, 256, kernel_size=(3, 3), stride=(1, 1), padding=(1, 1), bias=False)\n",
       "    (bn3): BatchNorm2d(256, eps=1e-05, momentum=0.1, affine=True, track_running_stats=True)\n",
       "    (relu3): ReLU(inplace=True)\n",
       "    (pool1): MaxPool2d(kernel_size=2, stride=2, padding=0, dilation=1, ceil_mode=False)\n",
       "    (conv4): Conv2d(256, 512, kernel_size=(3, 3), stride=(1, 1), padding=(1, 1), bias=False)\n",
       "    (bn4): BatchNorm2d(512, eps=1e-05, momentum=0.1, affine=True, track_running_stats=True)\n",
       "    (relu4): ReLU(inplace=True)\n",
       "    (conv5): Conv2d(512, 512, kernel_size=(3, 3), stride=(1, 1), padding=(1, 1), bias=False)\n",
       "    (bn5): BatchNorm2d(512, eps=1e-05, momentum=0.1, affine=True, track_running_stats=True)\n",
       "    (relu5): ReLU(inplace=True)\n",
       "    (pool2): MaxPool2d(kernel_size=2, stride=2, padding=0, dilation=1, ceil_mode=False)\n",
       "    (conv6): Conv2d(512, 512, kernel_size=(3, 3), stride=(1, 1), padding=(1, 1), bias=False)\n",
       "    (bn6): BatchNorm2d(512, eps=1e-05, momentum=0.1, affine=True, track_running_stats=True)\n",
       "    (relu6): ReLU(inplace=True)\n",
       "    (conv7): Conv2d(512, 512, kernel_size=(3, 3), stride=(1, 1), padding=(1, 1), bias=False)\n",
       "    (bn7): BatchNorm2d(512, eps=1e-05, momentum=0.1, affine=True, track_running_stats=True)\n",
       "    (relu7): ReLU(inplace=True)\n",
       "    (pool3): MaxPool2d(kernel_size=2, stride=2, padding=0, dilation=1, ceil_mode=False)\n",
       "  )\n",
       "  (classifier): Linear(in_features=512, out_features=6, bias=True)\n",
       ")"
      ]
     },
     "execution_count": 9,
     "metadata": {},
     "output_type": "execute_result"
    }
   ],
   "source": [
    "model"
   ]
  },
  {
   "cell_type": "code",
   "execution_count": null,
   "metadata": {},
   "outputs": [],
   "source": [
    "# evalution code\n",
    "\n",
    "\n",
    "@torch.inference_mode()\n",
    "def evaluate(\n",
    "  model: nn.Module,\n",
    "  dataloader: DataLoader,\n",
    "  verbose=True,\n",
    ") -> float:\n",
    "  model.eval()\n",
    "\n",
    "  num_samples = 0\n",
    "  num_correct = 0\n",
    "\n",
    "  for inputs, targets in tqdm(dataloader, desc=\"eval\", leave=False,\n",
    "                              disable=not verbose):\n",
    "    # Move the data from CPU to GPU\n",
    "    inputs = inputs.cuda()\n",
    "    targets = targets.cuda()\n",
    "\n",
    "    # Inference\n",
    "    outputs = model(inputs)\n",
    "\n",
    "    # Convert logits to class indices\n",
    "    outputs = outputs.argmax(dim=1)\n",
    "\n",
    "    # Update metrics\n",
    "    num_samples += targets.size(0)\n",
    "    num_correct += (outputs == targets).sum()\n",
    "\n",
    "  return (num_correct / num_samples * 100).item()# just a random pretrained model"
   ]
  },
  {
   "cell_type": "code",
   "execution_count": null,
   "metadata": {},
   "outputs": [
    {
     "name": "stderr",
     "output_type": "stream",
     "text": [
      "                                                     "
     ]
    },
    {
     "name": "stdout",
     "output_type": "stream",
     "text": [
      "dense model has accuracy=17.00%\n",
      "dense model has size=35.20 MiB\n"
     ]
    },
    {
     "name": "stderr",
     "output_type": "stream",
     "text": [
      "\r"
     ]
    }
   ],
   "source": [
    "# model without training leading to bad accurcay\n",
    "dense_model_accuracy = evaluate(model, dataloader['test'])\n",
    "dense_model_size = get_model_size(model)\n",
    "print(f\"dense model has accuracy={dense_model_accuracy:.2f}%\")\n",
    "print(f\"dense model has size={dense_model_size/MiB:.2f} MiB\")"
   ]
  },
  {
   "cell_type": "code",
   "execution_count": null,
   "metadata": {},
   "outputs": [
    {
     "name": "stdout",
     "output_type": "stream",
     "text": [
      "Finetuning Fine-grained Pruned Sparse Model\n",
      "Finetuning Fine-grained Pruned Sparse Model\n",
      "Epoch [1/5]\n"
     ]
    },
    {
     "name": "stderr",
     "output_type": "stream",
     "text": [
      "                                                        \r"
     ]
    },
    {
     "name": "stdout",
     "output_type": "stream",
     "text": [
      "Epoch [1/5] - Test Accuracy: 72.20%\n",
      "Best model updated with accuracy: 72.20%\n",
      "Epoch [2/5]\n"
     ]
    },
    {
     "name": "stderr",
     "output_type": "stream",
     "text": [
      "                                                        \r"
     ]
    },
    {
     "name": "stdout",
     "output_type": "stream",
     "text": [
      "Epoch [2/5] - Test Accuracy: 75.33%\n",
      "Best model updated with accuracy: 75.33%\n",
      "Epoch [3/5]\n"
     ]
    },
    {
     "name": "stderr",
     "output_type": "stream",
     "text": [
      "                                                        \r"
     ]
    },
    {
     "name": "stdout",
     "output_type": "stream",
     "text": [
      "Epoch [3/5] - Test Accuracy: 75.53%\n",
      "Best model updated with accuracy: 75.53%\n",
      "Epoch [4/5]\n"
     ]
    },
    {
     "name": "stderr",
     "output_type": "stream",
     "text": [
      "                                                        \r"
     ]
    },
    {
     "name": "stdout",
     "output_type": "stream",
     "text": [
      "Epoch [4/5] - Test Accuracy: 81.90%\n",
      "Best model updated with accuracy: 81.90%\n",
      "Epoch [5/5]\n"
     ]
    },
    {
     "name": "stderr",
     "output_type": "stream",
     "text": [
      "                                                        "
     ]
    },
    {
     "name": "stdout",
     "output_type": "stream",
     "text": [
      "Epoch [5/5] - Test Accuracy: 81.50%\n",
      "Best model saved with accuracy: 81.90%\n"
     ]
    },
    {
     "name": "stderr",
     "output_type": "stream",
     "text": [
      "\r"
     ]
    }
   ],
   "source": [
    "## training model for few epochs\n",
    "\n",
    "from tqdm import tqdm\n",
    "\n",
    "# Initialize variables for tracking progress\n",
    "best_sparse_model_checkpoint = dict()\n",
    "best_accuracy = 0\n",
    "\n",
    "print(f'Finetuning Fine-grained Pruned Sparse Model')\n",
    "\n",
    "\n",
    "num_finetune_epochs = 5\n",
    "optimizer = torch.optim.SGD(model.parameters(), lr=0.01, momentum=0.9, weight_decay=1e-4)\n",
    "scheduler = torch.optim.lr_scheduler.CosineAnnealingLR(optimizer, num_finetune_epochs)\n",
    "criterion = nn.CrossEntropyLoss()\n",
    "\n",
    "best_sparse_model_checkpoint = dict()\n",
    "best_accuracy = 0\n",
    "print(f'Finetuning Fine-grained Pruned Sparse Model')\n",
    "\n",
    "\n",
    "\n",
    "# Training loop\n",
    "for epoch in range(num_finetune_epochs):\n",
    "    print(f\"Epoch [{epoch+1}/{num_finetune_epochs}]\")\n",
    "\n",
    "    # Train phase\n",
    "    train(model, dataloader['train'], criterion, optimizer, scheduler)\n",
    "\n",
    "    # Validation phase (optional but recommended)\n",
    "    model.eval()  # Set the model to evaluation mode\n",
    "    correct = 0\n",
    "    total = 0\n",
    "    with torch.no_grad():  # No need to compute gradients during validation\n",
    "        for inputs, targets in tqdm(dataloader['test'], desc='test', leave=False):\n",
    "            # Move the data to GPU\n",
    "            inputs = inputs.cuda()\n",
    "            targets = targets.cuda()\n",
    "\n",
    "            # Forward pass\n",
    "            outputs = model(inputs)\n",
    "            _, predicted = torch.max(outputs, 1)\n",
    "\n",
    "            # Update correct and total counts\n",
    "            total += targets.size(0)\n",
    "            correct += (predicted == targets).sum().item()\n",
    "\n",
    "    # Compute accuracy\n",
    "    accuracy = 100 * correct / total\n",
    "    print(f\"Epoch [{epoch+1}/{num_finetune_epochs}] - Test Accuracy: {accuracy:.2f}%\")\n",
    "\n",
    "    # Save the model if it's the best one so far\n",
    "    if accuracy > best_accuracy:\n",
    "        best_accuracy = accuracy\n",
    "        best_sparse_model_checkpoint['model_state_dict'] = model.state_dict()\n",
    "        best_sparse_model_checkpoint['optimizer_state_dict'] = optimizer.state_dict()\n",
    "        best_sparse_model_checkpoint['epoch'] = epoch\n",
    "        best_sparse_model_checkpoint['accuracy'] = accuracy\n",
    "        print(f\"Best model updated with accuracy: {best_accuracy:.2f}%\")\n",
    "\n",
    "# Save the best model checkpoint after training is complete\n",
    "torch.save(best_sparse_model_checkpoint, 'best_finetuned_model.pth')\n",
    "print(f\"Best model saved with accuracy: {best_accuracy:.2f}%\")\n"
   ]
  },
  {
   "cell_type": "code",
   "execution_count": null,
   "metadata": {},
   "outputs": [
    {
     "name": "stderr",
     "output_type": "stream",
     "text": [
      "                                                     \r"
     ]
    },
    {
     "name": "stdout",
     "output_type": "stream",
     "text": [
      "dense model has accuracy=81.50%\n",
      "dense model has size=35.20 MiB\n"
     ]
    }
   ],
   "source": [
    "# the accuracy of the trained model\n",
    "\n",
    "dense_model_accuracy = evaluate(model, dataloader['test'])\n",
    "dense_model_size = get_model_size(model)\n",
    "print(f\"dense model has accuracy={dense_model_accuracy:.2f}%\")\n",
    "print(f\"dense model has size={dense_model_size/MiB:.2f} MiB\")"
   ]
  },
  {
   "cell_type": "code",
   "execution_count": 15,
   "metadata": {},
   "outputs": [
    {
     "data": {
      "text/plain": [
       "VGG(\n",
       "  (backbone): Sequential(\n",
       "    (conv0): Conv2d(3, 64, kernel_size=(3, 3), stride=(1, 1), padding=(1, 1), bias=False)\n",
       "    (bn0): BatchNorm2d(64, eps=1e-05, momentum=0.1, affine=True, track_running_stats=True)\n",
       "    (relu0): ReLU(inplace=True)\n",
       "    (conv1): Conv2d(64, 128, kernel_size=(3, 3), stride=(1, 1), padding=(1, 1), bias=False)\n",
       "    (bn1): BatchNorm2d(128, eps=1e-05, momentum=0.1, affine=True, track_running_stats=True)\n",
       "    (relu1): ReLU(inplace=True)\n",
       "    (pool0): MaxPool2d(kernel_size=2, stride=2, padding=0, dilation=1, ceil_mode=False)\n",
       "    (conv2): Conv2d(128, 256, kernel_size=(3, 3), stride=(1, 1), padding=(1, 1), bias=False)\n",
       "    (bn2): BatchNorm2d(256, eps=1e-05, momentum=0.1, affine=True, track_running_stats=True)\n",
       "    (relu2): ReLU(inplace=True)\n",
       "    (conv3): Conv2d(256, 256, kernel_size=(3, 3), stride=(1, 1), padding=(1, 1), bias=False)\n",
       "    (bn3): BatchNorm2d(256, eps=1e-05, momentum=0.1, affine=True, track_running_stats=True)\n",
       "    (relu3): ReLU(inplace=True)\n",
       "    (pool1): MaxPool2d(kernel_size=2, stride=2, padding=0, dilation=1, ceil_mode=False)\n",
       "    (conv4): Conv2d(256, 512, kernel_size=(3, 3), stride=(1, 1), padding=(1, 1), bias=False)\n",
       "    (bn4): BatchNorm2d(512, eps=1e-05, momentum=0.1, affine=True, track_running_stats=True)\n",
       "    (relu4): ReLU(inplace=True)\n",
       "    (conv5): Conv2d(512, 512, kernel_size=(3, 3), stride=(1, 1), padding=(1, 1), bias=False)\n",
       "    (bn5): BatchNorm2d(512, eps=1e-05, momentum=0.1, affine=True, track_running_stats=True)\n",
       "    (relu5): ReLU(inplace=True)\n",
       "    (pool2): MaxPool2d(kernel_size=2, stride=2, padding=0, dilation=1, ceil_mode=False)\n",
       "    (conv6): Conv2d(512, 512, kernel_size=(3, 3), stride=(1, 1), padding=(1, 1), bias=False)\n",
       "    (bn6): BatchNorm2d(512, eps=1e-05, momentum=0.1, affine=True, track_running_stats=True)\n",
       "    (relu6): ReLU(inplace=True)\n",
       "    (conv7): Conv2d(512, 512, kernel_size=(3, 3), stride=(1, 1), padding=(1, 1), bias=False)\n",
       "    (bn7): BatchNorm2d(512, eps=1e-05, momentum=0.1, affine=True, track_running_stats=True)\n",
       "    (relu7): ReLU(inplace=True)\n",
       "    (pool3): MaxPool2d(kernel_size=2, stride=2, padding=0, dilation=1, ceil_mode=False)\n",
       "  )\n",
       "  (classifier): Linear(in_features=512, out_features=6, bias=True)\n",
       ")"
      ]
     },
     "execution_count": 15,
     "metadata": {},
     "output_type": "execute_result"
    }
   ],
   "source": [
    "model"
   ]
  },
  {
   "cell_type": "code",
   "execution_count": null,
   "metadata": {},
   "outputs": [
    {
     "data": {
      "image/png": "[encoded data removed]",
      "text/plain": [
       "<Figure size 1000x900 with 9 Axes>"
      ]
     },
     "metadata": {},
     "output_type": "display_data"
    }
   ],
   "source": [
    "## this is the plot of the weights to show that most of the distribution is around the 0\n",
    "\n",
    "import matplotlib.pyplot as plt\n",
    "import torch\n",
    "\n",
    "def plot_conv_weights(model, bins=256, count_nonzero_only=False):\n",
    "    # List of convolutional layers\n",
    "    conv_layers = [module for module in model.modules() if isinstance(module, torch.nn.Conv2d)]\n",
    "    \n",
    "    # Determine the number of subplots needed\n",
    "    num_plots = len(conv_layers)\n",
    "    rows = (num_plots // 3) + (num_plots % 3 > 0)  # Calculate rows based on number of layers\n",
    "    cols = 3  # Set the number of columns to 3\n",
    "    \n",
    "    # Create the figure and subplots\n",
    "    fig, axes = plt.subplots(rows, cols, figsize=(10, rows*3))\n",
    "    axes = axes.ravel()  # Flatten axes to easily index\n",
    "    \n",
    "    # Plot each convolutional layer's weights\n",
    "    for plot_index, conv_layer in enumerate(conv_layers):\n",
    "        ax = axes[plot_index]\n",
    "        if count_nonzero_only:\n",
    "            # Extract the weights, flatten them, and keep only non-zero weights\n",
    "            param_cpu = conv_layer.weight.detach().view(-1).cpu()\n",
    "            param_cpu = param_cpu[param_cpu != 0].view(-1)\n",
    "            ax.hist(param_cpu, bins=bins, density=True, color='blue', alpha=0.5)\n",
    "        else:\n",
    "            # Flatten the weights and plot\n",
    "            ax.hist(conv_layer.weight.detach().view(-1).cpu(), bins=bins, density=True, color='blue', alpha=0.5)\n",
    "        \n",
    "        ax.set_xlabel(f'Conv Layer {plot_index+1}')\n",
    "        ax.set_ylabel('Density')\n",
    "\n",
    "    # Hide any unused subplots\n",
    "    for i in range(num_plots, len(axes)):\n",
    "        axes[i].axis('off')\n",
    "    \n",
    "    fig.suptitle('Histogram of Convolutional Layer Weights')\n",
    "    fig.tight_layout()\n",
    "    fig.subplots_adjust(top=0.925)\n",
    "    plt.show()\n",
    "\n",
    "# Call the function with your model\n",
    "plot_conv_weights(model)\n"
   ]
  },
  {
   "cell_type": "code",
   "execution_count": null,
   "metadata": {},
   "outputs": [
    {
     "name": "stderr",
     "output_type": "stream",
     "text": [
      "Scanning 0/8 weight - backbone.conv0.weight:  17%|█▋        | 1/6 [00:11<00:57, 11.52s/it]"
     ]
    },
    {
     "name": "stdout",
     "output_type": "stream",
     "text": [
      "    sparsity=0.40: accuracy=80.77%"
     ]
    },
    {
     "name": "stderr",
     "output_type": "stream",
     "text": [
      "Scanning 0/8 weight - backbone.conv0.weight:  33%|███▎      | 2/6 [00:23<00:46, 11.58s/it]"
     ]
    },
    {
     "name": "stdout",
     "output_type": "stream",
     "text": [
      "    sparsity=0.50: accuracy=78.60%"
     ]
    },
    {
     "name": "stderr",
     "output_type": "stream",
     "text": [
      "Scanning 0/8 weight - backbone.conv0.weight:  50%|█████     | 3/6 [00:35<00:35, 11.74s/it]"
     ]
    },
    {
     "name": "stdout",
     "output_type": "stream",
     "text": [
      "    sparsity=0.60: accuracy=78.03%"
     ]
    },
    {
     "name": "stderr",
     "output_type": "stream",
     "text": [
      "Scanning 0/8 weight - backbone.conv0.weight:  67%|██████▋   | 4/6 [00:46<00:22, 11.48s/it]"
     ]
    },
    {
     "name": "stdout",
     "output_type": "stream",
     "text": [
      "    sparsity=0.70: accuracy=72.13%"
     ]
    },
    {
     "name": "stderr",
     "output_type": "stream",
     "text": [
      "Scanning 0/8 weight - backbone.conv0.weight:  83%|████████▎ | 5/6 [00:57<00:11, 11.30s/it]"
     ]
    },
    {
     "name": "stdout",
     "output_type": "stream",
     "text": [
      "    sparsity=0.80: accuracy=67.70%"
     ]
    },
    {
     "name": "stderr",
     "output_type": "stream",
     "text": [
      "Scanning 0/8 weight - backbone.conv0.weight: 100%|██████████| 6/6 [01:08<00:00, 11.36s/it]\n"
     ]
    },
    {
     "name": "stdout",
     "output_type": "stream",
     "text": [
      "    sparsity=[0.40,0.50,0.60,0.70,0.80,0.90]: accuracy=[80.77%, 78.60%, 78.03%, 72.13%, 67.70%, 49.30%]"
     ]
    },
    {
     "name": "stderr",
     "output_type": "stream",
     "text": [
      "Scanning 1/8 weight - backbone.conv1.weight:  17%|█▋        | 1/6 [00:11<00:56, 11.21s/it]"
     ]
    },
    {
     "name": "stdout",
     "output_type": "stream",
     "text": [
      "    sparsity=0.40: accuracy=81.40%"
     ]
    },
    {
     "name": "stderr",
     "output_type": "stream",
     "text": [
      "Scanning 1/8 weight - backbone.conv1.weight:  33%|███▎      | 2/6 [00:22<00:44, 11.10s/it]"
     ]
    },
    {
     "name": "stdout",
     "output_type": "stream",
     "text": [
      "    sparsity=0.50: accuracy=81.27%"
     ]
    },
    {
     "name": "stderr",
     "output_type": "stream",
     "text": [
      "Scanning 1/8 weight - backbone.conv1.weight:  50%|█████     | 3/6 [00:33<00:33, 11.02s/it]"
     ]
    },
    {
     "name": "stdout",
     "output_type": "stream",
     "text": [
      "    sparsity=0.60: accuracy=81.47%"
     ]
    },
    {
     "name": "stderr",
     "output_type": "stream",
     "text": [
      "Scanning 1/8 weight - backbone.conv1.weight:  67%|██████▋   | 4/6 [00:44<00:22, 11.03s/it]"
     ]
    },
    {
     "name": "stdout",
     "output_type": "stream",
     "text": [
      "    sparsity=0.70: accuracy=81.00%"
     ]
    },
    {
     "name": "stderr",
     "output_type": "stream",
     "text": [
      "Scanning 1/8 weight - backbone.conv1.weight:  83%|████████▎ | 5/6 [00:54<00:10, 10.94s/it]"
     ]
    },
    {
     "name": "stdout",
     "output_type": "stream",
     "text": [
      "    sparsity=0.80: accuracy=79.20%"
     ]
    },
    {
     "name": "stderr",
     "output_type": "stream",
     "text": [
      "Scanning 1/8 weight - backbone.conv1.weight: 100%|██████████| 6/6 [01:06<00:00, 11.00s/it]\n"
     ]
    },
    {
     "name": "stdout",
     "output_type": "stream",
     "text": [
      "    sparsity=[0.40,0.50,0.60,0.70,0.80,0.90]: accuracy=[81.40%, 81.27%, 81.47%, 81.00%, 79.20%, 69.17%]"
     ]
    },
    {
     "name": "stderr",
     "output_type": "stream",
     "text": [
      "Scanning 2/8 weight - backbone.conv2.weight:  17%|█▋        | 1/6 [00:11<00:55, 11.11s/it]"
     ]
    },
    {
     "name": "stdout",
     "output_type": "stream",
     "text": [
      "    sparsity=0.40: accuracy=81.20%"
     ]
    },
    {
     "name": "stderr",
     "output_type": "stream",
     "text": [
      "Scanning 2/8 weight - backbone.conv2.weight:  33%|███▎      | 2/6 [00:22<00:44, 11.02s/it]"
     ]
    },
    {
     "name": "stdout",
     "output_type": "stream",
     "text": [
      "    sparsity=0.50: accuracy=81.47%"
     ]
    },
    {
     "name": "stderr",
     "output_type": "stream",
     "text": [
      "Scanning 2/8 weight - backbone.conv2.weight:  50%|█████     | 3/6 [00:33<00:32, 10.99s/it]"
     ]
    },
    {
     "name": "stdout",
     "output_type": "stream",
     "text": [
      "    sparsity=0.60: accuracy=81.10%"
     ]
    },
    {
     "name": "stderr",
     "output_type": "stream",
     "text": [
      "Scanning 2/8 weight - backbone.conv2.weight:  67%|██████▋   | 4/6 [00:43<00:21, 10.95s/it]"
     ]
    },
    {
     "name": "stdout",
     "output_type": "stream",
     "text": [
      "    sparsity=0.70: accuracy=79.93%"
     ]
    },
    {
     "name": "stderr",
     "output_type": "stream",
     "text": [
      "Scanning 2/8 weight - backbone.conv2.weight:  83%|████████▎ | 5/6 [00:54<00:10, 10.92s/it]"
     ]
    },
    {
     "name": "stdout",
     "output_type": "stream",
     "text": [
      "    sparsity=0.80: accuracy=78.30%"
     ]
    },
    {
     "name": "stderr",
     "output_type": "stream",
     "text": [
      "Scanning 2/8 weight - backbone.conv2.weight: 100%|██████████| 6/6 [01:05<00:00, 10.95s/it]\n"
     ]
    },
    {
     "name": "stdout",
     "output_type": "stream",
     "text": [
      "    sparsity=[0.40,0.50,0.60,0.70,0.80,0.90]: accuracy=[81.20%, 81.47%, 81.10%, 79.93%, 78.30%, 67.87%]"
     ]
    },
    {
     "name": "stderr",
     "output_type": "stream",
     "text": [
      "Scanning 3/8 weight - backbone.conv3.weight:  17%|█▋        | 1/6 [00:10<00:54, 10.88s/it]"
     ]
    },
    {
     "name": "stdout",
     "output_type": "stream",
     "text": [
      "    sparsity=0.40: accuracy=81.07%"
     ]
    },
    {
     "name": "stderr",
     "output_type": "stream",
     "text": [
      "Scanning 3/8 weight - backbone.conv3.weight:  33%|███▎      | 2/6 [00:21<00:43, 10.86s/it]"
     ]
    },
    {
     "name": "stdout",
     "output_type": "stream",
     "text": [
      "    sparsity=0.50: accuracy=81.23%"
     ]
    },
    {
     "name": "stderr",
     "output_type": "stream",
     "text": [
      "Scanning 3/8 weight - backbone.conv3.weight:  50%|█████     | 3/6 [00:32<00:32, 10.85s/it]"
     ]
    },
    {
     "name": "stdout",
     "output_type": "stream",
     "text": [
      "    sparsity=0.60: accuracy=80.77%"
     ]
    },
    {
     "name": "stderr",
     "output_type": "stream",
     "text": [
      "Scanning 3/8 weight - backbone.conv3.weight:  67%|██████▋   | 4/6 [00:43<00:21, 10.86s/it]"
     ]
    },
    {
     "name": "stdout",
     "output_type": "stream",
     "text": [
      "    sparsity=0.70: accuracy=78.63%"
     ]
    },
    {
     "name": "stderr",
     "output_type": "stream",
     "text": [
      "Scanning 3/8 weight - backbone.conv3.weight:  83%|████████▎ | 5/6 [00:54<00:10, 10.84s/it]"
     ]
    },
    {
     "name": "stdout",
     "output_type": "stream",
     "text": [
      "    sparsity=0.80: accuracy=74.47%"
     ]
    },
    {
     "name": "stderr",
     "output_type": "stream",
     "text": [
      "Scanning 3/8 weight - backbone.conv3.weight: 100%|██████████| 6/6 [01:05<00:00, 10.85s/it]\n"
     ]
    },
    {
     "name": "stdout",
     "output_type": "stream",
     "text": [
      "    sparsity=[0.40,0.50,0.60,0.70,0.80,0.90]: accuracy=[81.07%, 81.23%, 80.77%, 78.63%, 74.47%, 53.57%]"
     ]
    },
    {
     "name": "stderr",
     "output_type": "stream",
     "text": [
      "Scanning 4/8 weight - backbone.conv4.weight:  17%|█▋        | 1/6 [00:12<01:00, 12.09s/it]"
     ]
    },
    {
     "name": "stdout",
     "output_type": "stream",
     "text": [
      "    sparsity=0.40: accuracy=80.97%"
     ]
    },
    {
     "name": "stderr",
     "output_type": "stream",
     "text": [
      "Scanning 4/8 weight - backbone.conv4.weight:  33%|███▎      | 2/6 [00:25<00:52, 13.13s/it]"
     ]
    },
    {
     "name": "stdout",
     "output_type": "stream",
     "text": [
      "    sparsity=0.50: accuracy=79.63%"
     ]
    },
    {
     "name": "stderr",
     "output_type": "stream",
     "text": [
      "Scanning 4/8 weight - backbone.conv4.weight:  50%|█████     | 3/6 [00:39<00:40, 13.36s/it]"
     ]
    },
    {
     "name": "stdout",
     "output_type": "stream",
     "text": [
      "    sparsity=0.60: accuracy=78.83%"
     ]
    },
    {
     "name": "stderr",
     "output_type": "stream",
     "text": [
      "Scanning 4/8 weight - backbone.conv4.weight:  67%|██████▋   | 4/6 [00:53<00:27, 13.60s/it]"
     ]
    },
    {
     "name": "stdout",
     "output_type": "stream",
     "text": [
      "    sparsity=0.70: accuracy=78.23%"
     ]
    },
    {
     "name": "stderr",
     "output_type": "stream",
     "text": [
      "Scanning 4/8 weight - backbone.conv4.weight:  83%|████████▎ | 5/6 [01:07<00:13, 13.71s/it]"
     ]
    },
    {
     "name": "stdout",
     "output_type": "stream",
     "text": [
      "    sparsity=0.80: accuracy=73.63%"
     ]
    },
    {
     "name": "stderr",
     "output_type": "stream",
     "text": [
      "Scanning 4/8 weight - backbone.conv4.weight: 100%|██████████| 6/6 [01:21<00:00, 13.56s/it]\n"
     ]
    },
    {
     "name": "stdout",
     "output_type": "stream",
     "text": [
      "    sparsity=[0.40,0.50,0.60,0.70,0.80,0.90]: accuracy=[80.97%, 79.63%, 78.83%, 78.23%, 73.63%, 64.17%]"
     ]
    },
    {
     "name": "stderr",
     "output_type": "stream",
     "text": [
      "Scanning 5/8 weight - backbone.conv5.weight:  17%|█▋        | 1/6 [00:14<01:10, 14.04s/it]"
     ]
    },
    {
     "name": "stdout",
     "output_type": "stream",
     "text": [
      "    sparsity=0.40: accuracy=81.10%"
     ]
    },
    {
     "name": "stderr",
     "output_type": "stream",
     "text": [
      "Scanning 5/8 weight - backbone.conv5.weight:  33%|███▎      | 2/6 [00:28<00:56, 14.01s/it]"
     ]
    },
    {
     "name": "stdout",
     "output_type": "stream",
     "text": [
      "    sparsity=0.50: accuracy=80.53%"
     ]
    },
    {
     "name": "stderr",
     "output_type": "stream",
     "text": [
      "Scanning 5/8 weight - backbone.conv5.weight:  50%|█████     | 3/6 [00:41<00:41, 13.97s/it]"
     ]
    },
    {
     "name": "stdout",
     "output_type": "stream",
     "text": [
      "    sparsity=0.60: accuracy=80.20%"
     ]
    },
    {
     "name": "stderr",
     "output_type": "stream",
     "text": [
      "Scanning 5/8 weight - backbone.conv5.weight:  67%|██████▋   | 4/6 [00:55<00:27, 13.96s/it]"
     ]
    },
    {
     "name": "stdout",
     "output_type": "stream",
     "text": [
      "    sparsity=0.70: accuracy=79.37%"
     ]
    },
    {
     "name": "stderr",
     "output_type": "stream",
     "text": [
      "Scanning 5/8 weight - backbone.conv5.weight:  83%|████████▎ | 5/6 [01:09<00:13, 13.94s/it]"
     ]
    },
    {
     "name": "stdout",
     "output_type": "stream",
     "text": [
      "    sparsity=0.80: accuracy=76.93%"
     ]
    },
    {
     "name": "stderr",
     "output_type": "stream",
     "text": [
      "Scanning 5/8 weight - backbone.conv5.weight: 100%|██████████| 6/6 [01:23<00:00, 13.96s/it]\n"
     ]
    },
    {
     "name": "stdout",
     "output_type": "stream",
     "text": [
      "    sparsity=[0.40,0.50,0.60,0.70,0.80,0.90]: accuracy=[81.10%, 80.53%, 80.20%, 79.37%, 76.93%, 66.07%]"
     ]
    },
    {
     "name": "stderr",
     "output_type": "stream",
     "text": [
      "Scanning 6/8 weight - backbone.conv6.weight:  17%|█▋        | 1/6 [00:14<01:10, 14.02s/it]"
     ]
    },
    {
     "name": "stdout",
     "output_type": "stream",
     "text": [
      "    sparsity=0.40: accuracy=81.70%"
     ]
    },
    {
     "name": "stderr",
     "output_type": "stream",
     "text": [
      "Scanning 6/8 weight - backbone.conv6.weight:  33%|███▎      | 2/6 [00:27<00:55, 13.80s/it]"
     ]
    },
    {
     "name": "stdout",
     "output_type": "stream",
     "text": [
      "    sparsity=0.50: accuracy=81.60%"
     ]
    },
    {
     "name": "stderr",
     "output_type": "stream",
     "text": [
      "Scanning 6/8 weight - backbone.conv6.weight:  50%|█████     | 3/6 [00:41<00:41, 13.86s/it]"
     ]
    },
    {
     "name": "stdout",
     "output_type": "stream",
     "text": [
      "    sparsity=0.60: accuracy=82.07%"
     ]
    },
    {
     "name": "stderr",
     "output_type": "stream",
     "text": [
      "Scanning 6/8 weight - backbone.conv6.weight:  67%|██████▋   | 4/6 [00:55<00:27, 13.89s/it]"
     ]
    },
    {
     "name": "stdout",
     "output_type": "stream",
     "text": [
      "    sparsity=0.70: accuracy=82.20%"
     ]
    },
    {
     "name": "stderr",
     "output_type": "stream",
     "text": [
      "Scanning 6/8 weight - backbone.conv6.weight:  83%|████████▎ | 5/6 [01:09<00:13, 13.91s/it]"
     ]
    },
    {
     "name": "stdout",
     "output_type": "stream",
     "text": [
      "    sparsity=0.80: accuracy=81.53%"
     ]
    },
    {
     "name": "stderr",
     "output_type": "stream",
     "text": [
      "Scanning 6/8 weight - backbone.conv6.weight: 100%|██████████| 6/6 [01:20<00:00, 13.45s/it]\n"
     ]
    },
    {
     "name": "stdout",
     "output_type": "stream",
     "text": [
      "    sparsity=[0.40,0.50,0.60,0.70,0.80,0.90]: accuracy=[81.70%, 81.60%, 82.07%, 82.20%, 81.53%, 72.27%]"
     ]
    },
    {
     "name": "stderr",
     "output_type": "stream",
     "text": [
      "Scanning 7/8 weight - backbone.conv7.weight:  17%|█▋        | 1/6 [00:13<01:06, 13.37s/it]"
     ]
    },
    {
     "name": "stdout",
     "output_type": "stream",
     "text": [
      "    sparsity=0.40: accuracy=81.60%"
     ]
    },
    {
     "name": "stderr",
     "output_type": "stream",
     "text": [
      "Scanning 7/8 weight - backbone.conv7.weight:  33%|███▎      | 2/6 [00:27<00:55, 13.76s/it]"
     ]
    },
    {
     "name": "stdout",
     "output_type": "stream",
     "text": [
      "    sparsity=0.50: accuracy=81.73%"
     ]
    },
    {
     "name": "stderr",
     "output_type": "stream",
     "text": [
      "Scanning 7/8 weight - backbone.conv7.weight:  50%|█████     | 3/6 [00:41<00:41, 13.94s/it]"
     ]
    },
    {
     "name": "stdout",
     "output_type": "stream",
     "text": [
      "    sparsity=0.60: accuracy=81.57%"
     ]
    },
    {
     "name": "stderr",
     "output_type": "stream",
     "text": [
      "Scanning 7/8 weight - backbone.conv7.weight:  67%|██████▋   | 4/6 [00:55<00:27, 13.98s/it]"
     ]
    },
    {
     "name": "stdout",
     "output_type": "stream",
     "text": [
      "    sparsity=0.70: accuracy=81.83%"
     ]
    },
    {
     "name": "stderr",
     "output_type": "stream",
     "text": [
      "Scanning 7/8 weight - backbone.conv7.weight:  83%|████████▎ | 5/6 [01:09<00:13, 13.95s/it]"
     ]
    },
    {
     "name": "stdout",
     "output_type": "stream",
     "text": [
      "    sparsity=0.80: accuracy=81.33%"
     ]
    },
    {
     "name": "stderr",
     "output_type": "stream",
     "text": [
      "Scanning 7/8 weight - backbone.conv7.weight: 100%|██████████| 6/6 [01:23<00:00, 13.93s/it]"
     ]
    },
    {
     "name": "stdout",
     "output_type": "stream",
     "text": [
      "    sparsity=[0.40,0.50,0.60,0.70,0.80,0.90]: accuracy=[81.60%, 81.73%, 81.57%, 81.83%, 81.33%, 78.53%]"
     ]
    },
    {
     "name": "stderr",
     "output_type": "stream",
     "text": [
      "\n"
     ]
    }
   ],
   "source": [
    "\n",
    "\n",
    "\n",
    "def fine_grained_prune(tensor: torch.Tensor, sparsity : float) -> torch.Tensor:\n",
    "    \"\"\"\n",
    "    magnitude-based pruning for single tensor\n",
    "    :param tensor: torch.(cuda.)Tensor, weight of conv/fc layer\n",
    "    :param sparsity: float, pruning sparsity\n",
    "        sparsity = #zeros / #elements = 1 - #nonzeros / #elements\n",
    "    :return:\n",
    "        torch.(cuda.)Tensor, mask for zeros\n",
    "    \"\"\"\n",
    "    sparsity = min(max(0.0, sparsity), 1.0)\n",
    "    if sparsity == 1.0:\n",
    "        tensor.zero_()\n",
    "        return torch.zeros_like(tensor)\n",
    "    elif sparsity == 0.0:\n",
    "        return torch.ones_like(tensor)\n",
    "\n",
    "    num_elements = tensor.numel()\n",
    "\n",
    "    # Step 1: calculate the #zeros (please use round())\n",
    "    num_zeros = round(num_elements * sparsity)\n",
    "    # Step 2: calculate the importance of weight\n",
    "    importance = torch.abs(tensor)\n",
    "    # Step 3: calculate the pruning threshold\n",
    "    threshold = torch.kthvalue(importance.flatten(), num_zeros)[0]\n",
    "    # Step 4: get binary mask (1 for nonzeros, 0 for zeros)\n",
    "    mask = importance > threshold\n",
    "\n",
    "    # Step 5: apply mask to prune the tensor\n",
    "    tensor.mul_(mask)\n",
    "\n",
    "    return mask\n",
    "\n",
    "\n",
    "\n",
    "\n",
    "    \n",
    "@torch.no_grad()\n",
    "def sensitivity_scan(model, dataloader, scan_step=0.1, scan_start=0.4, scan_end=1.0, verbose=True):\n",
    "    sparsities = np.arange(start=scan_start, stop=scan_end, step=scan_step)\n",
    "    accuracies = []\n",
    "\n",
    "    # Filter to only include convolutional layers\n",
    "    named_conv_weights = []\n",
    "\n",
    "    # Iterate over the named modules to find convolutional layers\n",
    "    for name, module in model.named_modules():\n",
    "        if isinstance(module, torch.nn.Conv2d):\n",
    "            # Add the convolutional layer's parameters to the list\n",
    "            for param_name, param in module.named_parameters():\n",
    "                named_conv_weights.append((f\"{name}.{param_name}\", param))\n",
    "\n",
    "    # Check if named_conv_weights is populated\n",
    "    if len(named_conv_weights) == 0:\n",
    "        print(\"No convolutional layers found!\")\n",
    "        return sparsities, accuracies\n",
    "\n",
    "    # Iterate over convolutional layers\n",
    "    for i_layer, (name, param) in enumerate(named_conv_weights):\n",
    "        param_clone = param.detach().clone()\n",
    "        accuracy = []\n",
    "        for sparsity in tqdm(sparsities, desc=f'Scanning {i_layer}/{len(named_conv_weights)} weight - {name}'):\n",
    "            # Apply pruning to the parameter\n",
    "            fine_grained_prune(param.detach(), sparsity=sparsity)\n",
    "            acc = evaluate(model, dataloader, verbose=False)\n",
    "            if verbose:\n",
    "                print(f'\\r    sparsity={sparsity:.2f}: accuracy={acc:.2f}%', end='')\n",
    "            \n",
    "            # Restore original parameter values\n",
    "            param.copy_(param_clone)\n",
    "            accuracy.append(acc)\n",
    "        \n",
    "        if verbose:\n",
    "            print(f'\\r    sparsity=[{\",\".join([\"{:.2f}\".format(x) for x in sparsities])}]: accuracy=[{\", \".join([\"{:.2f}%\".format(x) for x in accuracy])}]', end='')\n",
    "        accuracies.append(accuracy)\n",
    "    \n",
    "    return sparsities, accuracies\n",
    "\n",
    "sparsities, accuracies = sensitivity_scan(\n",
    "    model, dataloader['test'], scan_step=0.1, scan_start=0.4, scan_end=1.0)"
   ]
  },
  {
   "cell_type": "code",
   "execution_count": 18,
   "metadata": {},
   "outputs": [
    {
     "name": "stdout",
     "output_type": "stream",
     "text": [
      "['80.77', '78.60', '78.03', '72.13', '67.70', '49.30']\n",
      "['81.40', '81.27', '81.47', '81.00', '79.20', '69.17']\n",
      "['81.20', '81.47', '81.10', '79.93', '78.30', '67.87']\n",
      "['81.07', '81.23', '80.77', '78.63', '74.47', '53.57']\n",
      "['80.97', '79.63', '78.83', '78.23', '73.63', '64.17']\n",
      "['81.10', '80.53', '80.20', '79.37', '76.93', '66.07']\n",
      "['81.70', '81.60', '82.07', '82.20', '81.53', '72.27']\n",
      "['81.60', '81.73', '81.57', '81.83', '81.33', '78.53']\n"
     ]
    }
   ],
   "source": [
    "for accuracy in accuracies:\n",
    "    # Format and print each accuracy value to two decimal places\n",
    "    print([f\"{acc:.2f}\" for acc in accuracy])\n"
   ]
  },
  {
   "cell_type": "code",
   "execution_count": 19,
   "metadata": {},
   "outputs": [
    {
     "data": {
      "text/plain": [
       "array([0.4, 0.5, 0.6, 0.7, 0.8, 0.9])"
      ]
     },
     "execution_count": 19,
     "metadata": {},
     "output_type": "execute_result"
    }
   ],
   "source": [
    "sparsities"
   ]
  },
  {
   "cell_type": "code",
   "execution_count": 20,
   "metadata": {},
   "outputs": [
    {
     "data": {
      "image/png": "[encoded data removed]",
      "text/plain": [
       "<Figure size 1000x900 with 9 Axes>"
      ]
     },
     "metadata": {},
     "output_type": "display_data"
    }
   ],
   "source": [
    "import matplotlib.pyplot as plt\n",
    "import numpy as np\n",
    "\n",
    "def plot_sparsities(accuracies, sparsities, bins=256, count_nonzero_only=False):\n",
    "    \"\"\"\n",
    "    Plot accuracy vs. sparsity threshold for each convolutional layer.\n",
    "\n",
    "    :param accuracies: List of accuracies for different sparsities (list of lists).\n",
    "    :param sparsities: List of sparsity thresholds.\n",
    "    :param bins: Number of bins for visualization (optional, not needed here).\n",
    "    :param count_nonzero_only: Flag to count only non-zero weights (optional, not needed here).\n",
    "    \"\"\"\n",
    "    # Determine the number of subplots needed\n",
    "    num_plots = len(accuracies)\n",
    "    rows = (num_plots // 3) + (num_plots % 3 > 0)  # Calculate rows based on number of layers\n",
    "    cols = 3  # Set the number of columns to 3\n",
    "    \n",
    "    # Create the figure and subplots\n",
    "    fig, axes = plt.subplots(rows, cols, figsize=(10, rows * 3))\n",
    "    axes = axes.ravel()  # Flatten axes to easily index\n",
    "    \n",
    "    # Plot each layer's accuracies against sparsities\n",
    "    for plot_index, accuracy_list in enumerate(accuracies):\n",
    "        ax = axes[plot_index]\n",
    "        \n",
    "        # Convert accuracy values to float and plot them against sparsities\n",
    "        accuracy_values = np.array([float(acc) for acc in accuracy_list])\n",
    "        \n",
    "        # Plot accuracy vs. sparsity threshold\n",
    "        ax.plot(sparsities, accuracy_values, marker='o', linestyle='-', color='b', label=f'Layer {plot_index + 1}')\n",
    "        \n",
    "        ax.set_xlabel('Sparsity Threshold')\n",
    "        ax.set_ylabel('Accuracy (%)')\n",
    "        ax.set_title(f'Accuracy vs. Sparsity for Layer {plot_index + 1}')\n",
    "        ax.grid(True)\n",
    "        ax.legend()\n",
    "    \n",
    "    # If there are extra axes, hide them\n",
    "    for i in range(num_plots, len(axes)):\n",
    "        axes[i].axis('off')\n",
    "    \n",
    "    # Show the plot\n",
    "    plt.tight_layout()\n",
    "    plt.show()\n",
    "\n",
    "plot_sparsities(accuracies, sparsities)"
   ]
  },
  {
   "cell_type": "code",
   "execution_count": 21,
   "metadata": {},
   "outputs": [
    {
     "data": {
      "image/png": "[encoded data removed]",
      "text/plain": [
       "<Figure size 800x600 with 1 Axes>"
      ]
     },
     "metadata": {},
     "output_type": "display_data"
    }
   ],
   "source": [
    "\n",
    "def plot_num_parameters_distribution(model):\n",
    "    num_parameters = dict()\n",
    "    for name, param in model.named_parameters():\n",
    "        if param.dim() > 1:\n",
    "            num_parameters[name] = param.numel()\n",
    "    fig = plt.figure(figsize=(8, 6))\n",
    "    plt.grid(axis='y')\n",
    "    plt.bar(list(num_parameters.keys()), list(num_parameters.values()))\n",
    "    plt.title('#Parameter Distribution')\n",
    "    plt.ylabel('Number of Parameters')\n",
    "    plt.xticks(rotation=60)\n",
    "    plt.tight_layout()\n",
    "    plt.show()\n",
    "\n",
    "plot_num_parameters_distribution(model)"
   ]
  },
  {
   "cell_type": "code",
   "execution_count": 22,
   "metadata": {},
   "outputs": [
    {
     "name": "stdout",
     "output_type": "stream",
     "text": [
      "{'backbone.conv0': 0.4, 'backbone.conv1': 0.6, 'backbone.conv2': 0.5, 'backbone.conv3': 0.5, 'backbone.conv4': 0.4, 'backbone.conv5': 0.4, 'backbone.conv6': 0.7, 'backbone.conv7': 0.7}\n"
     ]
    }
   ],
   "source": [
    "# Create an empty dictionary to hold the sparsity values for each layer\n",
    "sparsity_dict = {}\n",
    "\n",
    "# Assuming `accuracies` and `sparsities` are already defined\n",
    "\n",
    "# Get the best sparsities from the accuracies (as per previous logic)\n",
    "best_sparsities = []\n",
    "for accuracy_list in accuracies:\n",
    "    accuracy_floats = [float(acc) for acc in accuracy_list]\n",
    "    best_index = accuracy_floats.index(max(accuracy_floats))\n",
    "    best_sparsities.append(sparsities[best_index])\n",
    "\n",
    "# Now iterate through the model layers and match the sparsity with each layer\n",
    "sparsity_iter = iter(best_sparsities)  # iterator to go through the best sparsities\n",
    "\n",
    "# Loop through the layers of the model\n",
    "for name, module in model.named_modules():\n",
    "    if isinstance(module, torch.nn.Conv2d):\n",
    "        # Get the next best sparsity for the current Conv2d layer\n",
    "        best_sparsity = next(sparsity_iter)\n",
    "        \n",
    "        # Add the sparsity to the dictionary with the layer name as key\n",
    "        sparsity_dict[name] = best_sparsity\n",
    "\n",
    "# Print the sparsity dictionary to verify\n",
    "print(sparsity_dict)\n"
   ]
  },
  {
   "cell_type": "code",
   "execution_count": 23,
   "metadata": {},
   "outputs": [
    {
     "data": {
      "text/plain": [
       "<All keys matched successfully>"
      ]
     },
     "execution_count": 23,
     "metadata": {},
     "output_type": "execute_result"
    }
   ],
   "source": [
    "checkpoint_url = '/media/hp/New Volume/teja_works/tinyml/TinyMLLectureNotes/pruning/best_finetuned_model.pth'\n",
    "checkpoint = torch.load(checkpoint_url, map_location=\"cpu\")\n",
    "recover_model = lambda: model.load_state_dict(checkpoint['model_state_dict'])\n",
    "recover_model()"
   ]
  },
  {
   "cell_type": "code",
   "execution_count": 24,
   "metadata": {},
   "outputs": [],
   "source": [
    "\n",
    "class FineGrainedPruner:\n",
    "    def __init__(self, model, sparsity_dict):\n",
    "        # Initialize the pruner by creating masks using the sparsity_dict\n",
    "        self.masks = FineGrainedPruner.prune(model, sparsity_dict)\n",
    "\n",
    "    @torch.no_grad()\n",
    "    def apply(self, model):\n",
    "        # Apply the masks to the model weights\n",
    "        for name, param in model.named_parameters():\n",
    "            if name in self.masks:\n",
    "                param.data *= self.masks[name]  # Apply the pruning mask\n",
    "\n",
    "    @staticmethod\n",
    "    @torch.no_grad()\n",
    "    def prune(model, sparsity_dict):\n",
    "        masks = dict()  # Dictionary to store pruning masks for each layer\n",
    "        for name, param in model.named_parameters():\n",
    "            if param.dim() > 1:  # We only prune Conv2d and Linear (fully connected) layers\n",
    "                \n",
    "                print(name)\n",
    "                subname = name.replace('.weight', '')\n",
    "                if subname in sparsity_dict:\n",
    "                    # Get the sparsity value for this layer from the sparsity_dict\n",
    "                    sparsity = sparsity_dict[subname]\n",
    "                    \n",
    "                    \n",
    "                    # print(\"pruned\")\n",
    "                    \n",
    "                    # Apply the fine-grained pruning to the parameter\n",
    "                    masks[name] = fine_grained_prune(param, sparsity)\n",
    "        return masks\n"
   ]
  },
  {
   "cell_type": "code",
   "execution_count": 25,
   "metadata": {},
   "outputs": [
    {
     "name": "stdout",
     "output_type": "stream",
     "text": [
      "backbone.conv0.weight\n",
      "backbone.conv1.weight\n",
      "backbone.conv2.weight\n",
      "backbone.conv3.weight\n",
      "backbone.conv4.weight\n",
      "backbone.conv5.weight\n",
      "backbone.conv6.weight\n",
      "backbone.conv7.weight\n",
      "classifier.weight\n",
      "After pruning with sparsity dictionary\n",
      "  backbone.conv0: 0.40\n",
      "  backbone.conv1: 0.60\n",
      "  backbone.conv2: 0.50\n",
      "  backbone.conv3: 0.50\n",
      "  backbone.conv4: 0.40\n",
      "  backbone.conv5: 0.40\n",
      "  backbone.conv6: 0.70\n",
      "  backbone.conv7: 0.70\n",
      "The sparsity of each layer becomes\n",
      "Sparse model has size=15.34 MiB = 43.58% of dense model size\n"
     ]
    },
    {
     "name": "stderr",
     "output_type": "stream",
     "text": [
      "                                                     \r"
     ]
    },
    {
     "name": "stdout",
     "output_type": "stream",
     "text": [
      "Sparse model has accuracy=77.43% before fintuning\n"
     ]
    }
   ],
   "source": [
    "\n",
    "pruner = FineGrainedPruner(model, sparsity_dict)\n",
    "print(f'After pruning with sparsity dictionary')\n",
    "for name, sparsity in sparsity_dict.items():\n",
    "    print(f'  {name}: {sparsity:.2f}')\n",
    "print(f'The sparsity of each layer becomes')\n",
    "\n",
    "\n",
    "for name, param in model.named_parameters():\n",
    "    if name in sparsity_dict:\n",
    "        print(f'  {name}: {get_sparsity(param):.2f}')\n",
    "\n",
    "sparse_model_size = get_model_size(model, count_nonzero_only=True)\n",
    "print(f\"Sparse model has size={sparse_model_size / MiB:.2f} MiB = {sparse_model_size / dense_model_size * 100:.2f}% of dense model size\")\n",
    "sparse_model_accuracy = evaluate(model, dataloader['test'])\n",
    "print(f\"Sparse model has accuracy={sparse_model_accuracy:.2f}% before fintuning\")\n",
    "\n"
   ]
  },
  {
   "cell_type": "code",
   "execution_count": 26,
   "metadata": {},
   "outputs": [
    {
     "data": {
      "image/png": "[encoded data removed]",
      "text/plain": [
       "<Figure size 1000x900 with 9 Axes>"
      ]
     },
     "metadata": {},
     "output_type": "display_data"
    }
   ],
   "source": [
    "# Call the function with your model\n",
    "plot_conv_weights(model)"
   ]
  },
  {
   "cell_type": "code",
   "execution_count": 31,
   "metadata": {},
   "outputs": [
    {
     "name": "stdout",
     "output_type": "stream",
     "text": [
      "Finetuning Fine-grained Pruned Sparse Model\n",
      "Finetuning Fine-grained Pruned Sparse Model\n",
      "Best model saved with accuracy: 0.00%\n"
     ]
    }
   ],
   "source": [
    "from tqdm import tqdm\n",
    "\n",
    "# Initialize variables for tracking progress\n",
    "best_sparse_model_checkpoint = dict()\n",
    "best_accuracy = 0\n",
    "\n",
    "print(f'Finetuning Fine-grained Pruned Sparse Model')\n",
    "\n",
    "num_finetune_epochs = 5\n",
    "optimizer = torch.optim.SGD(model.parameters(), lr=0.01, momentum=0.9, weight_decay=1e-4)\n",
    "scheduler = torch.optim.lr_scheduler.CosineAnnealingLR(optimizer, num_finetune_epochs)\n",
    "criterion = nn.CrossEntropyLoss()\n",
    "\n",
    "best_sparse_model_checkpoint = dict()\n",
    "best_accuracy = 0\n",
    "print(f'Finetuning Fine-grained Pruned Sparse Model')\n",
    "\n",
    "# Training loop\n",
    "# for epoch in range(num_finetune_epochs):\n",
    "#     print(f\"Epoch [{epoch+1}/{num_finetune_epochs}]\")\n",
    "\n",
    "#     # Train phase\n",
    "#     train(model, dataloader['train'], criterion, optimizer, scheduler,  callbacks=[lambda: pruner.apply(model)])\n",
    "\n",
    "    # is_best = accuracy > best_accuracy\n",
    "    # if is_best:\n",
    "    #     best_sparse_model_checkpoint['model_state_dict'] = copy.deepcopy(model.state_dict())\n",
    "    #     best_accuracy = accuracy\n",
    "    # print(f'    Epoch {epoch+1} Accuracy {accuracy:.2f}% / Best Accuracy: {best_accuracy:.2f}%')\n",
    "    \n",
    "    \n",
    "best_sparse_model_checkpoint['model_state_dict'] = copy.deepcopy(model.state_dict())\n",
    "    \n",
    "# Save the best model checkpoint after training is complete\n",
    "torch.save(best_sparse_model_checkpoint, 'best_finetuned_sparse_model.pth')\n",
    "print(f\"Best model saved with accuracy: {best_accuracy:.2f}%\")\n"
   ]
  },
  {
   "cell_type": "code",
   "execution_count": null,
   "metadata": {},
   "outputs": [
    {
     "name": "stdout",
     "output_type": "stream",
     "text": [
      "Sparse model has size=15.34 MiB = 43.58% of dense model size\n"
     ]
    },
    {
     "name": "stderr",
     "output_type": "stream",
     "text": [
      "                                                     "
     ]
    },
    {
     "name": "stdout",
     "output_type": "stream",
     "text": [
      "Sparse model has accuracy=86.13% after fintuning\n"
     ]
    },
    {
     "name": "stderr",
     "output_type": "stream",
     "text": [
      "\r"
     ]
    }
   ],
   "source": [
    "\n",
    "## after fine tuning the model for few epochs we see that the model is getter better accuracy with half the size of the original model.\n",
    "\n",
    "# load the best sparse model checkpoint to evaluate the final performance\n",
    "best_sparse_model_checkpoint = torch.load('/media/hp/New Volume/teja_works/tinyml/TinyMLLectureNotes/pruning/best_finetuned_sparse_model.pth')\n",
    "model.load_state_dict(best_sparse_model_checkpoint['model_state_dict'])\n",
    "sparse_model_size = get_model_size(model, count_nonzero_only=True)\n",
    "print(f\"Sparse model has size={sparse_model_size / MiB:.2f} MiB = {sparse_model_size / dense_model_size * 100:.2f}% of dense model size\")\n",
    "sparse_model_accuracy = evaluate(model, dataloader['test'])\n",
    "print(f\"Sparse model has accuracy={sparse_model_accuracy:.2f}% after fintuning\")"
   ]
  },
  {
   "cell_type": "code",
   "execution_count": 33,
   "metadata": {},
   "outputs": [
    {
     "name": "stderr",
     "output_type": "stream",
     "text": [
      "                                                     "
     ]
    },
    {
     "name": "stdout",
     "output_type": "stream",
     "text": [
      "dense model has accuracy=81.50%\n"
     ]
    },
    {
     "name": "stderr",
     "output_type": "stream",
     "text": [
      "\r"
     ]
    }
   ],
   "source": [
    "# firstly, let's restore the model weights to the original dense version\n",
    "#   and check the validation accuracy\n",
    "recover_model()\n",
    "dense_model_accuracy = evaluate(model, dataloader['test'])\n",
    "print(f\"dense model has accuracy={dense_model_accuracy:.2f}%\")"
   ]
  },
  {
   "cell_type": "code",
   "execution_count": 34,
   "metadata": {},
   "outputs": [],
   "source": [
    "def get_model_macs(model, inputs) -> int:\n",
    "    return profile_macs(model, inputs)\n"
   ]
  },
  {
   "cell_type": "code",
   "execution_count": 35,
   "metadata": {},
   "outputs": [
    {
     "data": {
      "text/plain": [
       "VGG(\n",
       "  (backbone): Sequential(\n",
       "    (conv0): Conv2d(3, 64, kernel_size=(3, 3), stride=(1, 1), padding=(1, 1), bias=False)\n",
       "    (bn0): BatchNorm2d(64, eps=1e-05, momentum=0.1, affine=True, track_running_stats=True)\n",
       "    (relu0): ReLU(inplace=True)\n",
       "    (conv1): Conv2d(64, 128, kernel_size=(3, 3), stride=(1, 1), padding=(1, 1), bias=False)\n",
       "    (bn1): BatchNorm2d(128, eps=1e-05, momentum=0.1, affine=True, track_running_stats=True)\n",
       "    (relu1): ReLU(inplace=True)\n",
       "    (pool0): MaxPool2d(kernel_size=2, stride=2, padding=0, dilation=1, ceil_mode=False)\n",
       "    (conv2): Conv2d(128, 256, kernel_size=(3, 3), stride=(1, 1), padding=(1, 1), bias=False)\n",
       "    (bn2): BatchNorm2d(256, eps=1e-05, momentum=0.1, affine=True, track_running_stats=True)\n",
       "    (relu2): ReLU(inplace=True)\n",
       "    (conv3): Conv2d(256, 256, kernel_size=(3, 3), stride=(1, 1), padding=(1, 1), bias=False)\n",
       "    (bn3): BatchNorm2d(256, eps=1e-05, momentum=0.1, affine=True, track_running_stats=True)\n",
       "    (relu3): ReLU(inplace=True)\n",
       "    (pool1): MaxPool2d(kernel_size=2, stride=2, padding=0, dilation=1, ceil_mode=False)\n",
       "    (conv4): Conv2d(256, 512, kernel_size=(3, 3), stride=(1, 1), padding=(1, 1), bias=False)\n",
       "    (bn4): BatchNorm2d(512, eps=1e-05, momentum=0.1, affine=True, track_running_stats=True)\n",
       "    (relu4): ReLU(inplace=True)\n",
       "    (conv5): Conv2d(512, 512, kernel_size=(3, 3), stride=(1, 1), padding=(1, 1), bias=False)\n",
       "    (bn5): BatchNorm2d(512, eps=1e-05, momentum=0.1, affine=True, track_running_stats=True)\n",
       "    (relu5): ReLU(inplace=True)\n",
       "    (pool2): MaxPool2d(kernel_size=2, stride=2, padding=0, dilation=1, ceil_mode=False)\n",
       "    (conv6): Conv2d(512, 512, kernel_size=(3, 3), stride=(1, 1), padding=(1, 1), bias=False)\n",
       "    (bn6): BatchNorm2d(512, eps=1e-05, momentum=0.1, affine=True, track_running_stats=True)\n",
       "    (relu6): ReLU(inplace=True)\n",
       "    (conv7): Conv2d(512, 512, kernel_size=(3, 3), stride=(1, 1), padding=(1, 1), bias=False)\n",
       "    (bn7): BatchNorm2d(512, eps=1e-05, momentum=0.1, affine=True, track_running_stats=True)\n",
       "    (relu7): ReLU(inplace=True)\n",
       "    (pool3): MaxPool2d(kernel_size=2, stride=2, padding=0, dilation=1, ceil_mode=False)\n",
       "  )\n",
       "  (classifier): Linear(in_features=512, out_features=6, bias=True)\n",
       ")"
      ]
     },
     "execution_count": 35,
     "metadata": {},
     "output_type": "execute_result"
    }
   ],
   "source": [
    "model"
   ]
  },
  {
   "cell_type": "markdown",
   "metadata": {},
   "source": [
    "# Channel Pruning"
   ]
  },
  {
   "cell_type": "code",
   "execution_count": null,
   "metadata": {},
   "outputs": [],
   "source": [
    "def get_num_channels_to_keep(channels: int, prune_ratio: float) -> int:\n",
    "    \"\"\"A function to calculate the number of layers to PRESERVE after pruning\n",
    "    Note that preserve_rate = 1. - prune_ratio\n",
    "    \"\"\"\n",
    "    return int(round((1-prune_ratio)*channels))\n",
    "\n",
    "\n",
    "@torch.no_grad()\n",
    "def channel_prune(model: nn.Module,\n",
    "                  prune_ratio: Union[List, float]) -> nn.Module:\n",
    "    \"\"\"Apply channel pruning to each of the conv layer in the backbone\n",
    "    Note that for prune_ratio, we can either provide a floating-point number,\n",
    "    indicating that we use a uniform pruning rate for all layers, or a list of\n",
    "    numbers to indicate per-layer pruning rate.\n",
    "    \"\"\"\n",
    "    # sanity check of provided prune_ratio\n",
    "    assert isinstance(prune_ratio, (float, list))\n",
    "    n_conv = len([m for m in model.backbone if isinstance(m, nn.Conv2d)])\n",
    "    # note that for the ratios, it affects the previous conv output and next\n",
    "    # conv input, i.e., conv0 - ratio0 - conv1 - ratio1-...\n",
    "    if isinstance(prune_ratio, list):\n",
    "        assert len(prune_ratio) == n_conv - 1\n",
    "    else:  # convert float to list\n",
    "        prune_ratio = [prune_ratio] * (n_conv - 1)\n",
    "\n",
    "    # we prune the convs in the backbone with a uniform ratio\n",
    "    model = copy.deepcopy(model)  # prevent overwrite\n",
    "    # we only apply pruning to the backbone features\n",
    "    all_convs = [m for m in model.backbone if isinstance(m, nn.Conv2d)]\n",
    "    all_bns = [m for m in model.backbone if isinstance(m, nn.BatchNorm2d)]\n",
    "    # apply pruning. we naively keep the first k channels\n",
    "    assert len(all_convs) == len(all_bns)\n",
    "    for i_ratio, p_ratio in enumerate(prune_ratio):\n",
    "        prev_conv = all_convs[i_ratio]\n",
    "        prev_bn = all_bns[i_ratio]\n",
    "        next_conv = all_convs[i_ratio + 1]\n",
    "        original_channels = prev_conv.out_channels  # same as next_conv.in_channels\n",
    "        n_keep = get_num_channels_to_keep(original_channels, p_ratio)\n",
    "\n",
    "        # prune the output of the previous conv and bn\n",
    "        prev_conv.weight.set_(prev_conv.weight.detach()[:n_keep])\n",
    "        prev_bn.weight.set_(prev_bn.weight.detach()[:n_keep])\n",
    "        prev_bn.bias.set_(prev_bn.bias.detach()[:n_keep])\n",
    "        prev_bn.running_mean.set_(prev_bn.running_mean.detach()[:n_keep])\n",
    "        prev_bn.running_var.set_(prev_bn.running_var.detach()[:n_keep])\n",
    "\n",
    "        # prune the input of the next conv (hint: just one line of code)\n",
    "        next_conv.weight.set_(next_conv.weight.detach()[:, :n_keep])\n",
    "\n",
    "    print(\"Tensor's shape has been changed, but the print info of model doesn't change.\")\n",
    "    return model\n"
   ]
  },
  {
   "cell_type": "code",
   "execution_count": 41,
   "metadata": {},
   "outputs": [
    {
     "name": "stdout",
     "output_type": "stream",
     "text": [
      "Tensor's shape has been changed, but the print info of model doesn't change.\n"
     ]
    },
    {
     "name": "stderr",
     "output_type": "stream",
     "text": [
      "                                                     "
     ]
    },
    {
     "name": "stdout",
     "output_type": "stream",
     "text": [
      "pruned model has accuracy=22.97%\n"
     ]
    },
    {
     "name": "stderr",
     "output_type": "stream",
     "text": [
      "\r"
     ]
    }
   ],
   "source": [
    "dummy_input = torch.randn(1, 3, 224,224).cuda()\n",
    "recover_model()\n",
    "pruned_model = channel_prune(model, prune_ratio=0.3)\n",
    "pruned_macs = get_model_macs(pruned_model, dummy_input)\n",
    "\n",
    "pruned_model_accuracy = evaluate(pruned_model, dataloader['test'])\n",
    "print(f\"pruned model has accuracy={pruned_model_accuracy:.2f}%\")"
   ]
  },
  {
   "cell_type": "code",
   "execution_count": null,
   "metadata": {},
   "outputs": [],
   "source": [
    "# function to sort the channels from important to non-important\n",
    "def get_input_channel_importance(weight):\n",
    "    in_channels = weight.shape[1]\n",
    "    importances = []\n",
    "    # compute the importance for each input channel\n",
    "    for i_c in range(weight.shape[1]):\n",
    "        channel_weight = weight.detach()[:, i_c]\n",
    "\n",
    "        # the importance is calculated here.\n",
    "        importance = torch.norm(channel_weight, p=2)\n",
    "        importances.append(importance.view(1))\n",
    "    return torch.cat(importances)\n",
    "\n",
    "@torch.no_grad()\n",
    "def apply_channel_sorting(model):\n",
    "    model = copy.deepcopy(model)  # do not modify the original model\n",
    "    # fetch all the conv and bn layers from the backbone\n",
    "    all_convs = [m for m in model.backbone if isinstance(m, nn.Conv2d)]\n",
    "    all_bns = [m for m in model.backbone if isinstance(m, nn.BatchNorm2d)]\n",
    "    # iterate through conv layers\n",
    "    for i_conv in range(len(all_convs) - 1):\n",
    "        # each channel sorting index, we need to apply it to:\n",
    "        # - the output dimension of the previous conv\n",
    "        # - the previous BN layer\n",
    "        # - the input dimension of the next conv (we compute importance here)\n",
    "        prev_conv = all_convs[i_conv]\n",
    "        prev_bn = all_bns[i_conv]\n",
    "        next_conv = all_convs[i_conv + 1]\n",
    "        # note that we always compute the importance according to input channels\n",
    "        importance = get_input_channel_importance(next_conv.weight)\n",
    "        # sorting from large to small\n",
    "        sort_idx = torch.argsort(importance, descending=True)\n",
    "\n",
    "        # apply to previous conv and its following bn\n",
    "        prev_conv.weight.copy_(torch.index_select(\n",
    "            prev_conv.weight.detach(), 0, sort_idx))\n",
    "        for tensor_name in ['weight', 'bias', 'running_mean', 'running_var']:\n",
    "            tensor_to_apply = getattr(prev_bn, tensor_name)\n",
    "            tensor_to_apply.copy_(\n",
    "                torch.index_select(tensor_to_apply.detach(), 0, sort_idx)\n",
    "            )\n",
    "\n",
    "        # apply to the next conv input (hint: one line of code)\n",
    "        next_conv.weight.copy_(torch.index_select(next_conv.weight.detach(), 1, sort_idx))\n",
    "\n",
    "    return model"
   ]
  },
  {
   "cell_type": "code",
   "execution_count": 43,
   "metadata": {},
   "outputs": [
    {
     "name": "stdout",
     "output_type": "stream",
     "text": [
      " * Without sorting...\n",
      "Tensor's shape has been changed, but the print info of model doesn't change.\n"
     ]
    },
    {
     "name": "stderr",
     "output_type": "stream",
     "text": [
      "                                                     \r"
     ]
    },
    {
     "name": "stdout",
     "output_type": "stream",
     "text": [
      "pruned model has accuracy=22.97%\n",
      " * With sorting...\n",
      "Tensor's shape has been changed, but the print info of model doesn't change.\n"
     ]
    },
    {
     "name": "stderr",
     "output_type": "stream",
     "text": [
      "                                                     \r"
     ]
    },
    {
     "name": "stdout",
     "output_type": "stream",
     "text": [
      "pruned model has accuracy=33.23%\n"
     ]
    }
   ],
   "source": [
    "\n",
    "channel_pruning_ratio = 0.3  # pruned-out ratio\n",
    "\n",
    "print(\" * Without sorting...\")\n",
    "pruned_model = channel_prune(model, channel_pruning_ratio)\n",
    "pruned_model_accuracy = evaluate(pruned_model, dataloader['test'])\n",
    "print(f\"pruned model has accuracy={pruned_model_accuracy:.2f}%\")\n",
    "\n",
    "\n",
    "print(\" * With sorting...\")\n",
    "sorted_model = apply_channel_sorting(model)\n",
    "pruned_model = channel_prune(sorted_model, channel_pruning_ratio)\n",
    "pruned_model_accuracy = evaluate(pruned_model, dataloader['test'])\n",
    "print(f\"pruned model has accuracy={pruned_model_accuracy:.2f}%\")"
   ]
  },
  {
   "cell_type": "code",
   "execution_count": 44,
   "metadata": {},
   "outputs": [
    {
     "name": "stderr",
     "output_type": "stream",
     "text": [
      "                                                        \r"
     ]
    },
    {
     "name": "stdout",
     "output_type": "stream",
     "text": [
      "Epoch 1 Accuracy 77.80% / Best Accuracy: 77.80%\n"
     ]
    },
    {
     "name": "stderr",
     "output_type": "stream",
     "text": [
      "                                                        \r"
     ]
    },
    {
     "name": "stdout",
     "output_type": "stream",
     "text": [
      "Epoch 2 Accuracy 81.97% / Best Accuracy: 81.97%\n"
     ]
    },
    {
     "name": "stderr",
     "output_type": "stream",
     "text": [
      "                                                        \r"
     ]
    },
    {
     "name": "stdout",
     "output_type": "stream",
     "text": [
      "Epoch 3 Accuracy 83.87% / Best Accuracy: 83.87%\n"
     ]
    },
    {
     "name": "stderr",
     "output_type": "stream",
     "text": [
      "                                                        \r"
     ]
    },
    {
     "name": "stdout",
     "output_type": "stream",
     "text": [
      "Epoch 4 Accuracy 78.43% / Best Accuracy: 83.87%\n"
     ]
    },
    {
     "name": "stderr",
     "output_type": "stream",
     "text": [
      "                                                        "
     ]
    },
    {
     "name": "stdout",
     "output_type": "stream",
     "text": [
      "Epoch 5 Accuracy 81.73% / Best Accuracy: 83.87%\n"
     ]
    },
    {
     "name": "stderr",
     "output_type": "stream",
     "text": [
      "\r"
     ]
    }
   ],
   "source": [
    "num_finetune_epochs = 5\n",
    "optimizer = torch.optim.SGD(pruned_model.parameters(), lr=0.01, momentum=0.9, weight_decay=1e-4)\n",
    "scheduler = torch.optim.lr_scheduler.CosineAnnealingLR(optimizer, num_finetune_epochs)\n",
    "criterion = nn.CrossEntropyLoss()\n",
    "\n",
    "best_accuracy = 0\n",
    "for epoch in range(num_finetune_epochs):\n",
    "    train(pruned_model, dataloader['train'], criterion, optimizer, scheduler)\n",
    "    accuracy = evaluate(pruned_model, dataloader['test'])\n",
    "    is_best = accuracy > best_accuracy\n",
    "    if is_best:\n",
    "        best_accuracy = accuracy\n",
    "    print(f'Epoch {epoch+1} Accuracy {accuracy:.2f}% / Best Accuracy: {best_accuracy:.2f}%')"
   ]
  },
  {
   "cell_type": "code",
   "execution_count": 45,
   "metadata": {},
   "outputs": [
    {
     "name": "stdout",
     "output_type": "stream",
     "text": [
      "                Original        Pruned          Reduction Ratio\n",
      "Latency (ms)    2.7             1.5             1.8            \n",
      "MACs (M)        606             305             2.0            \n",
      "Param (M)       9.23            5.01            1.8            \n"
     ]
    }
   ],
   "source": [
    "\n",
    "# helper functions to measure latency of a regular PyTorch models.\n",
    "#   Unlike fine-grained pruning, channel pruning\n",
    "#   can directly leads to model size reduction and speed up.\n",
    "@torch.no_grad()\n",
    "def measure_latency(model, dummy_input, n_warmup=20, n_test=100):\n",
    "    model.eval()\n",
    "    # warmup\n",
    "    for _ in range(n_warmup):\n",
    "        _ = model(dummy_input)\n",
    "    # real test\n",
    "    t1 = time.time()\n",
    "    for _ in range(n_test):\n",
    "        _ = model(dummy_input)\n",
    "    t2 = time.time()\n",
    "    return (t2 - t1) / n_test  # average latency\n",
    "\n",
    "table_template = \"{:<15} {:<15} {:<15} {:<15}\"\n",
    "print (table_template.format('', 'Original','Pruned','Reduction Ratio'))\n",
    "\n",
    "# 1. measure the latency of the original model and the pruned model on CPU\n",
    "#   which simulates inference on an edge device\n",
    "dummy_input = torch.randn(1, 3, 32, 32).to('cpu')\n",
    "pruned_model = pruned_model.to('cpu')\n",
    "model = model.to('cpu')\n",
    "\n",
    "pruned_latency = measure_latency(pruned_model, dummy_input)\n",
    "original_latency = measure_latency(model, dummy_input)\n",
    "print(table_template.format('Latency (ms)',\n",
    "                            round(original_latency * 1000, 1),\n",
    "                            round(pruned_latency * 1000, 1),\n",
    "                            round(original_latency / pruned_latency, 1)))\n",
    "\n",
    "# 2. measure the computation (MACs)\n",
    "original_macs = get_model_macs(model, dummy_input)\n",
    "pruned_macs = get_model_macs(pruned_model, dummy_input)\n",
    "print(table_template.format('MACs (M)',\n",
    "                            round(original_macs / 1e6),\n",
    "                            round(pruned_macs / 1e6),\n",
    "                            round(original_macs / pruned_macs, 1)))\n",
    "\n",
    "# 3. measure the model size (params)\n",
    "original_param = get_num_parameters(model)\n",
    "pruned_param = get_num_parameters(pruned_model)\n",
    "print(table_template.format('Param (M)',\n",
    "                            round(original_param / 1e6, 2),\n",
    "                            round(pruned_param / 1e6, 2),\n",
    "                            round(original_param / pruned_param, 1)))\n",
    "\n",
    "# put model back to cuda\n",
    "pruned_model = pruned_model.to('cuda')\n",
    "model = model.to('cuda')\n",
    "     "
   ]
  },
  {
   "cell_type": "code",
   "execution_count": null,
   "metadata": {},
   "outputs": [],
   "source": []
  }
 ],
 "metadata": {
  "kernelspec": {
   "display_name": "generic",
   "language": "python",
   "name": "python3"
  },
  "language_info": {
   "codemirror_mode": {
    "name": "ipython",
    "version": 3
   },
   "file_extension": ".py",
   "mimetype": "text/x-python",
   "name": "python",
   "nbconvert_exporter": "python",
   "pygments_lexer": "ipython3",
   "version": "3.10.16"
  }
 },
 "nbformat": 4,
 "nbformat_minor": 2
}
